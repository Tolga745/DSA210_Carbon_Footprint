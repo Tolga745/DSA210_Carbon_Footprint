{
 "cells": [
  {
   "cell_type": "markdown",
   "id": "4eb5c193",
   "metadata": {},
   "source": [
    "# Commute Carbon Footprint Prediction with PyTorch"
   ]
  },
  {
   "cell_type": "markdown",
   "id": "62334d1f",
   "metadata": {},
   "source": [
    "## 1. Import Libraries"
   ]
  },
  {
   "cell_type": "code",
   "execution_count": null,
   "id": "6251ba9c",
   "metadata": {},
   "outputs": [],
   "source": [
    "import pandas as pd\n",
    "import numpy as np\n",
    "import torch\n",
    "import torch.nn as nn\n",
    "from torch.utils.data import Dataset, TensorDataset, DataLoader\n",
    "from sklearn.preprocessing import StandardScaler\n",
    "import matplotlib.pyplot as plt\n",
    "\n",
    "torch.manual_seed(42)\n",
    "np.random.seed(42)\n"
   ]
  },
  {
   "cell_type": "markdown",
   "id": "10e19912",
   "metadata": {},
   "source": [
    "## 2. Load and Preprocess Data"
   ]
  },
  {
   "cell_type": "code",
   "execution_count": null,
   "id": "c5ca6daa",
   "metadata": {},
   "outputs": [],
   "source": [
    "data_file = 'commute_data.csv'\n",
    "try:\n",
    "    df = pd.read_csv(data_file)\n",
    "    print(f\"Successfully loaded data from {data_file}\")\n",
    "except FileNotFoundError:\n",
    "    print(f\"Error: File {data_file} not found.\")\n",
    "    raise\n",
    "except Exception as e:\n",
    "    print(f\"Error loading data: {str(e)}\")\n",
    "    raise\n",
    "\n",
    "df['avg_speed'] = df['distance_km'] / (df['trip_duration'] / 60)\n",
    "df['co2_per_km'] = df['co2_emissions_kg'] / df['distance_km']\n",
    "df['direction_binary'] = (df['trip_direction'] == 'Home to Campus').astype(int)\n",
    "df['departure_hour'] = pd.to_datetime(df['departure_time'], format='%H:%M').dt.hour\n",
    "traffic_map = {0: 'Low', 1: 'Moderate', 2: 'High'}\n",
    "df['traffic_text'] = df['traffic_condition'].map(traffic_map)\n",
    "\n",
    "df.head()\n"
   ]
  },
  {
   "cell_type": "markdown",
   "id": "be1d3026",
   "metadata": {},
   "source": [
    "## 3. Summary Statistics"
   ]
  },
  {
   "cell_type": "code",
   "execution_count": null,
   "id": "173df0b8",
   "metadata": {},
   "outputs": [],
   "source": [
    "print(f\"Loaded {len(df)} commute records\")\n",
    "print(f\"Average CO2 emissions: {df['co2_emissions_kg'].mean():.2f} kg\")\n",
    "traffic_summary = df.groupby('traffic_text')['co2_emissions_kg'].agg(['mean', 'count'])\n",
    "traffic_summary\n"
   ]
  },
  {
   "cell_type": "markdown",
   "id": "4f4539d3",
   "metadata": {},
   "source": [
    "## 4. Define Neural Network"
   ]
  },
  {
   "cell_type": "code",
   "execution_count": null,
   "id": "a1d2f009",
   "metadata": {},
   "outputs": [],
   "source": [
    "class CarbonFootprintNN(nn.Module):\n",
    "    def __init__(self, input_dim):\n",
    "        super(CarbonFootprintNN, self).__init__()\n",
    "        self.layer1 = nn.Linear(input_dim, 32)\n",
    "        self.layer2 = nn.Linear(32, 16)\n",
    "        self.layer3 = nn.Linear(16, 1)\n",
    "        self.relu = nn.ReLU()\n",
    "        self.dropout = nn.Dropout(0.2)\n",
    "\n",
    "    def forward(self, x):\n",
    "        x = self.relu(self.layer1(x))\n",
    "        x = self.dropout(x)\n",
    "        x = self.relu(self.layer2(x))\n",
    "        x = self.layer3(x)\n",
    "        return x\n"
   ]
  },
  {
   "cell_type": "markdown",
   "id": "0db05e38",
   "metadata": {},
   "source": [
    "## 5. Prepare Dataset"
   ]
  },
  {
   "cell_type": "code",
   "execution_count": null,
   "id": "d39799f1",
   "metadata": {},
   "outputs": [],
   "source": [
    "features = ['traffic_condition', 'trip_duration', 'distance_km', 'fuel_efficiency_l_per_100km']\n",
    "X = df[features].values\n",
    "y = df['co2_emissions_kg'].values.reshape(-1, 1)\n",
    "\n",
    "scaler = StandardScaler()\n",
    "X_scaled = scaler.fit_transform(X)\n",
    "\n",
    "X_tensor = torch.tensor(X_scaled, dtype=torch.float32)\n",
    "y_tensor = torch.tensor(y, dtype=torch.float32)\n",
    "\n",
    "dataset = TensorDataset(X_tensor, y_tensor)\n",
    "\n",
    "train_size = int(0.8 * len(dataset))\n",
    "test_size = len(dataset) - train_size\n",
    "train_dataset, test_dataset = torch.utils.data.random_split(dataset, [train_size, test_size])\n",
    "\n",
    "train_loader = DataLoader(train_dataset, batch_size=4, shuffle=True)\n",
    "test_loader = DataLoader(test_dataset, batch_size=4)\n"
   ]
  },
  {
   "cell_type": "markdown",
   "id": "3ebe3ac8",
   "metadata": {},
   "source": [
    "## 6. Train Model"
   ]
  },
  {
   "cell_type": "code",
   "execution_count": null,
   "id": "68dc1e66",
   "metadata": {},
   "outputs": [],
   "source": [
    "model = CarbonFootprintNN(X.shape[1])\n",
    "criterion = nn.MSELoss()\n",
    "optimizer = torch.optim.Adam(model.parameters(), lr=0.001, weight_decay=1e-5)\n",
    "\n",
    "num_epochs = 500\n",
    "train_losses, test_losses = [], []\n",
    "\n",
    "for epoch in range(num_epochs):\n",
    "    model.train()\n",
    "    train_loss = sum(criterion(model(xb), yb).item() for xb, yb in train_loader) / len(train_loader)\n",
    "    train_losses.append(train_loss)\n",
    "\n",
    "    model.eval()\n",
    "    with torch.no_grad():\n",
    "        test_loss = sum(criterion(model(xb), yb).item() for xb, yb in test_loader) / len(test_loader)\n",
    "    test_losses.append(test_loss)\n",
    "\n",
    "    if (epoch + 1) % 50 == 0:\n",
    "        print(f\"Epoch {epoch+1}, Train Loss: {train_loss:.4f}, Test Loss: {test_loss:.4f}\")\n"
   ]
  },
  {
   "cell_type": "markdown",
   "id": "f02e4aca",
   "metadata": {},
   "source": [
    "## 7. Evaluation"
   ]
  },
  {
   "cell_type": "code",
   "execution_count": null,
   "id": "8f6e3da2",
   "metadata": {},
   "outputs": [],
   "source": [
    "model.eval()\n",
    "all_predictions, all_targets = [], []\n",
    "\n",
    "with torch.no_grad():\n",
    "    for xb, yb in test_loader:\n",
    "        pred = model(xb)\n",
    "        all_predictions.extend(pred.numpy().flatten())\n",
    "        all_targets.extend(yb.numpy().flatten())\n",
    "\n",
    "all_predictions = np.array(all_predictions)\n",
    "all_targets = np.array(all_targets)\n",
    "\n",
    "mse = np.mean((all_predictions - all_targets) ** 2)\n",
    "rmse = np.sqrt(mse)\n",
    "mae = np.mean(np.abs(all_predictions - all_targets))\n",
    "r2 = 1 - (np.sum((all_targets - all_predictions)**2) / np.sum((all_targets - np.mean(all_targets))**2))\n",
    "\n",
    "print(f\"MSE: {mse:.4f}, RMSE: {rmse:.4f}, MAE: {mae:.4f}, R²: {r2:.4f}\")\n"
   ]
  },
  {
   "cell_type": "markdown",
   "id": "e82f58b0",
   "metadata": {},
   "source": [
    "## 8. Visualizations"
   ]
  },
  {
   "cell_type": "code",
   "execution_count": null,
   "id": "6d63220d",
   "metadata": {},
   "outputs": [],
   "source": [
    "plt.figure(figsize=(10, 5))\n",
    "plt.plot(train_losses, label='Training Loss')\n",
    "plt.plot(test_losses, label='Testing Loss')\n",
    "plt.xlabel('Epoch')\n",
    "plt.ylabel('MSE Loss')\n",
    "plt.title('Learning Curves')\n",
    "plt.legend()\n",
    "plt.grid(True)\n",
    "plt.show()\n",
    "\n",
    "plt.figure(figsize=(8, 6))\n",
    "plt.scatter(all_targets, all_predictions, alpha=0.6)\n",
    "plt.plot([min(all_targets), max(all_targets)], [min(all_targets), max(all_targets)], 'r--')\n",
    "plt.xlabel('Actual CO2 Emissions (kg)')\n",
    "plt.ylabel('Predicted CO2 Emissions (kg)')\n",
    "plt.title('Predicted vs Actual CO2 Emissions')\n",
    "plt.grid(True)\n",
    "plt.show()\n"
   ]
  },
  {
   "cell_type": "markdown",
   "id": "74a533c4",
   "metadata": {},
   "source": [
    "## 9. Save Model"
   ]
  },
  {
   "cell_type": "code",
   "execution_count": null,
   "id": "5bf81864",
   "metadata": {},
   "outputs": [],
   "source": [
    "torch.save({\n",
    "    'model_state_dict': model.state_dict(),\n",
    "    'input_dim': X.shape[1],\n",
    "    'features': features,\n",
    "    'scaler': scaler\n",
    "}, 'commute_carbon_pytorch_model.pt')\n",
    "print(\"Model saved.\")\n"
   ]
  }
 ],
 "metadata": {},
 "nbformat": 4,
 "nbformat_minor": 5
}
